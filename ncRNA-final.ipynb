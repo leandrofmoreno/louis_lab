{
 "cells": [
  {
   "cell_type": "markdown",
   "metadata": {},
   "source": [
    "# Generate the lncRNA based on log2Foldchange"
   ]
  },
  {
   "cell_type": "code",
   "execution_count": 3,
   "metadata": {},
   "outputs": [],
   "source": [
    "import pandas as pd\n",
    "import matplotlib.pyplot as plt\n",
    "import seaborn as sns\n",
    "import glob\n",
    "import numpy as np\n",
    "from ipywidgets import widgets\n",
    "from IPython.display import Markdown, display\n",
    "\n",
    "def printmd(string):\n",
    "    display(Markdown(string))\n",
    "\n",
    "    # Create text widget for output\n",
    "output_text = widgets.Text()\n",
    "\n",
    "# Create text widget for input\n",
    "input_text = widgets.Text()\n",
    "\n",
    "# Define function to bind value of the input to the output variable \n",
    "def bind_input_to_output(sender):\n",
    "    output_text.value = input_text.value\n",
    "\n",
    "# Tell the text input widget to call bind_input_to_output() on submit\n",
    "input_text.on_submit(bind_input_to_output)"
   ]
  },
  {
   "cell_type": "code",
   "execution_count": 5,
   "metadata": {
    "collapsed": true
   },
   "outputs": [
    {
     "data": {
      "text/markdown": [
       "**Type the log2fold that you want to use?**"
      ],
      "text/plain": [
       "<IPython.core.display.Markdown object>"
      ]
     },
     "metadata": {},
     "output_type": "display_data"
    },
    {
     "data": {
      "application/vnd.jupyter.widget-view+json": {
       "model_id": "49159a4c2c6d49a8a8de5b2788432e0d",
       "version_major": 2,
       "version_minor": 0
      },
      "text/plain": [
       "Text(value='0.58')"
      ]
     },
     "metadata": {},
     "output_type": "display_data"
    }
   ],
   "source": [
    "# Display output text box widget (will populate when value submitted in input)\n",
    "printmd(\"**Type the log2fold that you want to use?**\")\n",
    "output_text\n"
   ]
  },
  {
   "cell_type": "code",
   "execution_count": 6,
   "metadata": {
    "collapsed": true
   },
   "outputs": [
    {
     "data": {
      "text/markdown": [
       "**Cut-off:**"
      ],
      "text/plain": [
       "<IPython.core.display.Markdown object>"
      ]
     },
     "metadata": {},
     "output_type": "display_data"
    },
    {
     "name": "stdout",
     "output_type": "stream",
     "text": [
      "0.58\n"
     ]
    },
    {
     "data": {
      "text/html": [
       "<div>\n",
       "<style scoped>\n",
       "    .dataframe tbody tr th:only-of-type {\n",
       "        vertical-align: middle;\n",
       "    }\n",
       "\n",
       "    .dataframe tbody tr th {\n",
       "        vertical-align: top;\n",
       "    }\n",
       "\n",
       "    .dataframe thead th {\n",
       "        text-align: right;\n",
       "    }\n",
       "</style>\n",
       "<table border=\"1\" class=\"dataframe\">\n",
       "  <thead>\n",
       "    <tr style=\"text-align: right;\">\n",
       "      <th></th>\n",
       "      <th>CL40_TEAD_lncRNA</th>\n",
       "      <th>COLO320_TEAD_lncRNA</th>\n",
       "      <th>GTG7_TEAD_lncRNA</th>\n",
       "      <th>HT55_TEAD_lncRNA</th>\n",
       "      <th>HUTU80_TEAD_lncRNA</th>\n",
       "      <th>LS180_TEAD_lncRNA</th>\n",
       "      <th>LS411_TEAD_lncRNA</th>\n",
       "      <th>MDST8_TEAD_lncRNA</th>\n",
       "      <th>SW1463_TEAD_lncRNA</th>\n",
       "      <th>label</th>\n",
       "      <th>Count Overlap</th>\n",
       "    </tr>\n",
       "  </thead>\n",
       "  <tbody>\n",
       "    <tr>\n",
       "      <th>ENSG00000279088.1_6</th>\n",
       "      <td>-1.985314</td>\n",
       "      <td>0.256104</td>\n",
       "      <td>-0.054574</td>\n",
       "      <td>-2.575375</td>\n",
       "      <td>-0.263831</td>\n",
       "      <td>-1.954861</td>\n",
       "      <td>-1.171365</td>\n",
       "      <td>-1.056075</td>\n",
       "      <td>-2.483758</td>\n",
       "      <td>[CL40_TEAD_lncRNA, COLO320_TEAD_lncRNA, GTG7_T...</td>\n",
       "      <td>9</td>\n",
       "    </tr>\n",
       "    <tr>\n",
       "      <th>ENSG00000279861.1_6</th>\n",
       "      <td>-1.426898</td>\n",
       "      <td>-0.787838</td>\n",
       "      <td>-0.029133</td>\n",
       "      <td>-2.485955</td>\n",
       "      <td>0.450377</td>\n",
       "      <td>-0.769824</td>\n",
       "      <td>-0.637907</td>\n",
       "      <td>-0.292813</td>\n",
       "      <td>0.207655</td>\n",
       "      <td>[CL40_TEAD_lncRNA, COLO320_TEAD_lncRNA, GTG7_T...</td>\n",
       "      <td>9</td>\n",
       "    </tr>\n",
       "    <tr>\n",
       "      <th>ENSG00000265408.1_6</th>\n",
       "      <td>-0.034071</td>\n",
       "      <td>-0.043602</td>\n",
       "      <td>-0.585374</td>\n",
       "      <td>0.298556</td>\n",
       "      <td>-1.130773</td>\n",
       "      <td>-0.018665</td>\n",
       "      <td>0.457003</td>\n",
       "      <td>-0.527306</td>\n",
       "      <td>0.283889</td>\n",
       "      <td>[CL40_TEAD_lncRNA, COLO320_TEAD_lncRNA, GTG7_T...</td>\n",
       "      <td>9</td>\n",
       "    </tr>\n",
       "    <tr>\n",
       "      <th>ENSG00000267322.2_5</th>\n",
       "      <td>0.139018</td>\n",
       "      <td>0.049950</td>\n",
       "      <td>-0.353444</td>\n",
       "      <td>0.163068</td>\n",
       "      <td>-0.814161</td>\n",
       "      <td>-0.518287</td>\n",
       "      <td>-0.172769</td>\n",
       "      <td>-0.638427</td>\n",
       "      <td>-0.534161</td>\n",
       "      <td>[CL40_TEAD_lncRNA, COLO320_TEAD_lncRNA, GTG7_T...</td>\n",
       "      <td>9</td>\n",
       "    </tr>\n",
       "    <tr>\n",
       "      <th>ENSG00000236137.1_5</th>\n",
       "      <td>-0.002486</td>\n",
       "      <td>0.084431</td>\n",
       "      <td>-0.241415</td>\n",
       "      <td>-1.145611</td>\n",
       "      <td>-0.351489</td>\n",
       "      <td>-0.854069</td>\n",
       "      <td>-0.562251</td>\n",
       "      <td>-0.132422</td>\n",
       "      <td>-0.018930</td>\n",
       "      <td>[CL40_TEAD_lncRNA, COLO320_TEAD_lncRNA, GTG7_T...</td>\n",
       "      <td>9</td>\n",
       "    </tr>\n",
       "    <tr>\n",
       "      <th>...</th>\n",
       "      <td>...</td>\n",
       "      <td>...</td>\n",
       "      <td>...</td>\n",
       "      <td>...</td>\n",
       "      <td>...</td>\n",
       "      <td>...</td>\n",
       "      <td>...</td>\n",
       "      <td>...</td>\n",
       "      <td>...</td>\n",
       "      <td>...</td>\n",
       "      <td>...</td>\n",
       "    </tr>\n",
       "    <tr>\n",
       "      <th>ENSG00000248901.1_4</th>\n",
       "      <td>0.000000</td>\n",
       "      <td>0.000000</td>\n",
       "      <td>0.000000</td>\n",
       "      <td>0.000000</td>\n",
       "      <td>0.000000</td>\n",
       "      <td>0.000000</td>\n",
       "      <td>0.000000</td>\n",
       "      <td>0.000000</td>\n",
       "      <td>-1.150003</td>\n",
       "      <td>[SW1463_TEAD_lncRNA]</td>\n",
       "      <td>1</td>\n",
       "    </tr>\n",
       "    <tr>\n",
       "      <th>ENSG00000248858.7_6</th>\n",
       "      <td>0.000000</td>\n",
       "      <td>0.389693</td>\n",
       "      <td>0.000000</td>\n",
       "      <td>0.000000</td>\n",
       "      <td>0.000000</td>\n",
       "      <td>0.000000</td>\n",
       "      <td>0.000000</td>\n",
       "      <td>1.001135</td>\n",
       "      <td>0.000000</td>\n",
       "      <td>[COLO320_TEAD_lncRNA]</td>\n",
       "      <td>1</td>\n",
       "    </tr>\n",
       "    <tr>\n",
       "      <th>ENSG00000248884.1_5</th>\n",
       "      <td>0.000000</td>\n",
       "      <td>-2.055226</td>\n",
       "      <td>0.000000</td>\n",
       "      <td>0.000000</td>\n",
       "      <td>0.000000</td>\n",
       "      <td>0.000000</td>\n",
       "      <td>0.000000</td>\n",
       "      <td>0.712415</td>\n",
       "      <td>0.000000</td>\n",
       "      <td>[COLO320_TEAD_lncRNA]</td>\n",
       "      <td>1</td>\n",
       "    </tr>\n",
       "    <tr>\n",
       "      <th>ENSG00000248890.1_5</th>\n",
       "      <td>0.000000</td>\n",
       "      <td>0.000000</td>\n",
       "      <td>0.000000</td>\n",
       "      <td>0.000000</td>\n",
       "      <td>0.000000</td>\n",
       "      <td>0.000000</td>\n",
       "      <td>0.000000</td>\n",
       "      <td>-1.404962</td>\n",
       "      <td>0.000000</td>\n",
       "      <td>[MDST8_TEAD_lncRNA]</td>\n",
       "      <td>1</td>\n",
       "    </tr>\n",
       "    <tr>\n",
       "      <th>ENSG00000248898.1_5</th>\n",
       "      <td>0.000000</td>\n",
       "      <td>-0.927392</td>\n",
       "      <td>0.000000</td>\n",
       "      <td>0.000000</td>\n",
       "      <td>0.000000</td>\n",
       "      <td>0.000000</td>\n",
       "      <td>0.000000</td>\n",
       "      <td>0.000000</td>\n",
       "      <td>0.000000</td>\n",
       "      <td>[COLO320_TEAD_lncRNA]</td>\n",
       "      <td>1</td>\n",
       "    </tr>\n",
       "  </tbody>\n",
       "</table>\n",
       "<p>5152 rows × 11 columns</p>\n",
       "</div>"
      ],
      "text/plain": [
       "                     CL40_TEAD_lncRNA  COLO320_TEAD_lncRNA  GTG7_TEAD_lncRNA  \\\n",
       "ENSG00000279088.1_6         -1.985314             0.256104         -0.054574   \n",
       "ENSG00000279861.1_6         -1.426898            -0.787838         -0.029133   \n",
       "ENSG00000265408.1_6         -0.034071            -0.043602         -0.585374   \n",
       "ENSG00000267322.2_5          0.139018             0.049950         -0.353444   \n",
       "ENSG00000236137.1_5         -0.002486             0.084431         -0.241415   \n",
       "...                               ...                  ...               ...   \n",
       "ENSG00000248901.1_4          0.000000             0.000000          0.000000   \n",
       "ENSG00000248858.7_6          0.000000             0.389693          0.000000   \n",
       "ENSG00000248884.1_5          0.000000            -2.055226          0.000000   \n",
       "ENSG00000248890.1_5          0.000000             0.000000          0.000000   \n",
       "ENSG00000248898.1_5          0.000000            -0.927392          0.000000   \n",
       "\n",
       "                     HT55_TEAD_lncRNA  HUTU80_TEAD_lncRNA  LS180_TEAD_lncRNA  \\\n",
       "ENSG00000279088.1_6         -2.575375           -0.263831          -1.954861   \n",
       "ENSG00000279861.1_6         -2.485955            0.450377          -0.769824   \n",
       "ENSG00000265408.1_6          0.298556           -1.130773          -0.018665   \n",
       "ENSG00000267322.2_5          0.163068           -0.814161          -0.518287   \n",
       "ENSG00000236137.1_5         -1.145611           -0.351489          -0.854069   \n",
       "...                               ...                 ...                ...   \n",
       "ENSG00000248901.1_4          0.000000            0.000000           0.000000   \n",
       "ENSG00000248858.7_6          0.000000            0.000000           0.000000   \n",
       "ENSG00000248884.1_5          0.000000            0.000000           0.000000   \n",
       "ENSG00000248890.1_5          0.000000            0.000000           0.000000   \n",
       "ENSG00000248898.1_5          0.000000            0.000000           0.000000   \n",
       "\n",
       "                     LS411_TEAD_lncRNA  MDST8_TEAD_lncRNA  SW1463_TEAD_lncRNA  \\\n",
       "ENSG00000279088.1_6          -1.171365          -1.056075           -2.483758   \n",
       "ENSG00000279861.1_6          -0.637907          -0.292813            0.207655   \n",
       "ENSG00000265408.1_6           0.457003          -0.527306            0.283889   \n",
       "ENSG00000267322.2_5          -0.172769          -0.638427           -0.534161   \n",
       "ENSG00000236137.1_5          -0.562251          -0.132422           -0.018930   \n",
       "...                                ...                ...                 ...   \n",
       "ENSG00000248901.1_4           0.000000           0.000000           -1.150003   \n",
       "ENSG00000248858.7_6           0.000000           1.001135            0.000000   \n",
       "ENSG00000248884.1_5           0.000000           0.712415            0.000000   \n",
       "ENSG00000248890.1_5           0.000000          -1.404962            0.000000   \n",
       "ENSG00000248898.1_5           0.000000           0.000000            0.000000   \n",
       "\n",
       "                                                                 label  \\\n",
       "ENSG00000279088.1_6  [CL40_TEAD_lncRNA, COLO320_TEAD_lncRNA, GTG7_T...   \n",
       "ENSG00000279861.1_6  [CL40_TEAD_lncRNA, COLO320_TEAD_lncRNA, GTG7_T...   \n",
       "ENSG00000265408.1_6  [CL40_TEAD_lncRNA, COLO320_TEAD_lncRNA, GTG7_T...   \n",
       "ENSG00000267322.2_5  [CL40_TEAD_lncRNA, COLO320_TEAD_lncRNA, GTG7_T...   \n",
       "ENSG00000236137.1_5  [CL40_TEAD_lncRNA, COLO320_TEAD_lncRNA, GTG7_T...   \n",
       "...                                                                ...   \n",
       "ENSG00000248901.1_4                               [SW1463_TEAD_lncRNA]   \n",
       "ENSG00000248858.7_6                              [COLO320_TEAD_lncRNA]   \n",
       "ENSG00000248884.1_5                              [COLO320_TEAD_lncRNA]   \n",
       "ENSG00000248890.1_5                                [MDST8_TEAD_lncRNA]   \n",
       "ENSG00000248898.1_5                              [COLO320_TEAD_lncRNA]   \n",
       "\n",
       "                     Count Overlap  \n",
       "ENSG00000279088.1_6              9  \n",
       "ENSG00000279861.1_6              9  \n",
       "ENSG00000265408.1_6              9  \n",
       "ENSG00000267322.2_5              9  \n",
       "ENSG00000236137.1_5              9  \n",
       "...                            ...  \n",
       "ENSG00000248901.1_4              1  \n",
       "ENSG00000248858.7_6              1  \n",
       "ENSG00000248884.1_5              1  \n",
       "ENSG00000248890.1_5              1  \n",
       "ENSG00000248898.1_5              1  \n",
       "\n",
       "[5152 rows x 11 columns]"
      ]
     },
     "execution_count": 6,
     "metadata": {},
     "output_type": "execute_result"
    }
   ],
   "source": [
    "new_variable = float(output_text.value)\n",
    "printmd(\"**Cut-off:**\")\n",
    "print(new_variable)\n",
    "\n",
    "#read files for foldchange criteria\n",
    "path = r'L:\\basic\\divg\\CEMM-Lexor\\Leandro\\TEAD\\TEAD_lnRNA/*/known_gene/' \n",
    "all_files = glob.glob(path + \"gb_change.txt\")\n",
    "list_of_dfs = [pd.read_csv(all_files, sep=\"\\t\").drop(['Gene', 'baseMean','lfcSE','stat','pvalue', 'padj'], 1).set_index('Transcript') for all_files in all_files]\n",
    "\n",
    "#loop for creating a list of datadrames - 1 per file\n",
    "for dataframe, all_file in zip(list_of_dfs, all_files):\n",
    "    all_file2 = all_file.split('\\\\')\n",
    "    dataframe.rename(columns={'log2FoldChange':all_file2[7]}, inplace=True)\n",
    "\n",
    "#Combine all the dfs\n",
    "combined_df = pd.concat(list_of_dfs, axis=1, sort=True)\n",
    "#combined_df_pvalue = pd.concat(list_of_dfs2, axis=1, sort=True)\n",
    "\n",
    "#Create a coloumn named label containing all the cell line intersections based on gene name. Replace \"-1\" by the wanted foldchange\n",
    "combined_df['label'] = (combined_df < new_variable).apply(lambda y: combined_df.columns[y.tolist()].tolist(), axis=1)\n",
    "\n",
    "#Count the number of intersection using \",\" as delimiter\n",
    "combined_df['Count Overlap'] = combined_df['label'].astype(str).str.count(\"\\,\") +1 \n",
    "\n",
    "#Sort based on # of intersections\n",
    "combined_df_sorted = combined_df.sort_values(by=['Count Overlap'], ascending=False)\n",
    "\n",
    "#remove empty intersection\n",
    "combined_df_sorted_clean = combined_df_sorted[~combined_df_sorted['label'].astype(str).str.contains('\\[]')].fillna(0)\n",
    "combined_df_sorted_clean"
   ]
  },
  {
   "cell_type": "markdown",
   "metadata": {},
   "source": [
    "## Save the matrix as a excel file:"
   ]
  },
  {
   "cell_type": "code",
   "execution_count": 18,
   "metadata": {},
   "outputs": [],
   "source": [
    "#save file\n",
    "combined_df_sorted_clean.to_csv(\"/Users/leandromoreno/Desktop/laura_upregulation_shared.csv\", sep='\\t')\n",
    "#combined_df_pvalue_sorted_clean.to_csv(\"lncRNA_foldchange05_pvaluenew2.csv\", sep='\\t')"
   ]
  },
  {
   "cell_type": "markdown",
   "metadata": {},
   "source": [
    "## Expression of a specific lncRNA"
   ]
  },
  {
   "cell_type": "code",
   "execution_count": 7,
   "metadata": {
    "collapsed": true
   },
   "outputs": [
    {
     "data": {
      "text/plain": [
       "CL40_TEAD_lncRNA                                                -0.40411\n",
       "COLO320_TEAD_lncRNA                                             0.750437\n",
       "GTG7_TEAD_lncRNA                                                0.322119\n",
       "HT55_TEAD_lncRNA                                                -1.13087\n",
       "HUTU80_TEAD_lncRNA                                              0.983587\n",
       "LS180_TEAD_lncRNA                                               0.324583\n",
       "LS411_TEAD_lncRNA                                               0.643906\n",
       "MDST8_TEAD_lncRNA                                              -0.933503\n",
       "SW1463_TEAD_lncRNA                                             -0.328891\n",
       "label                  [CL40_TEAD_lncRNA, GTG7_TEAD_lncRNA, HT55_TEAD...\n",
       "Count Overlap                                                          6\n",
       "Name: ENSG00000163597.14_2, dtype: object"
      ]
     },
     "execution_count": 7,
     "metadata": {},
     "output_type": "execute_result"
    }
   ],
   "source": [
    "combined_df_sorted_clean.loc[\"ENSG00000163597.14_2\"]"
   ]
  },
  {
   "cell_type": "code",
   "execution_count": 9,
   "metadata": {},
   "outputs": [
    {
     "ename": "AttributeError",
     "evalue": "module 'glob' has no attribute '__version__'",
     "output_type": "error",
     "traceback": [
      "\u001b[1;31m---------------------------------------------------------------------------\u001b[0m",
      "\u001b[1;31mAttributeError\u001b[0m                            Traceback (most recent call last)",
      "\u001b[1;32m<ipython-input-9-41bbbdac86dc>\u001b[0m in \u001b[0;36m<module>\u001b[1;34m\u001b[0m\n\u001b[1;32m----> 1\u001b[1;33m \u001b[0mglob\u001b[0m\u001b[1;33m.\u001b[0m\u001b[0m__version__\u001b[0m\u001b[1;33m\u001b[0m\u001b[1;33m\u001b[0m\u001b[0m\n\u001b[0m",
      "\u001b[1;31mAttributeError\u001b[0m: module 'glob' has no attribute '__version__'"
     ]
    }
   ],
   "source": [
    "glob.__version__"
   ]
  },
  {
   "cell_type": "code",
   "execution_count": 11,
   "metadata": {},
   "outputs": [
    {
     "ename": "NameError",
     "evalue": "name 'ipywidgets' is not defined",
     "output_type": "error",
     "traceback": [
      "\u001b[1;31m---------------------------------------------------------------------------\u001b[0m",
      "\u001b[1;31mNameError\u001b[0m                                 Traceback (most recent call last)",
      "\u001b[1;32m<ipython-input-11-2fad0b2292f8>\u001b[0m in \u001b[0;36m<module>\u001b[1;34m\u001b[0m\n\u001b[1;32m----> 1\u001b[1;33m \u001b[0mipywidgets\u001b[0m\u001b[1;33m.\u001b[0m\u001b[0m__version__\u001b[0m\u001b[1;33m\u001b[0m\u001b[1;33m\u001b[0m\u001b[0m\n\u001b[0m",
      "\u001b[1;31mNameError\u001b[0m: name 'ipywidgets' is not defined"
     ]
    }
   ],
   "source": [
    "ipywidgets.__version__"
   ]
  },
  {
   "cell_type": "code",
   "execution_count": null,
   "metadata": {},
   "outputs": [],
   "source": []
  }
 ],
 "metadata": {
  "kernelspec": {
   "display_name": "Python 3",
   "language": "python",
   "name": "python3"
  },
  "language_info": {
   "codemirror_mode": {
    "name": "ipython",
    "version": 3
   },
   "file_extension": ".py",
   "mimetype": "text/x-python",
   "name": "python",
   "nbconvert_exporter": "python",
   "pygments_lexer": "ipython3",
   "version": "3.7.6"
  }
 },
 "nbformat": 4,
 "nbformat_minor": 2
}
