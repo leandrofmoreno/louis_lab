{
 "cells": [
  {
   "cell_type": "markdown",
   "metadata": {},
   "source": [
    "# Generate the lncRNA based on log2Foldchange"
   ]
  },
  {
   "cell_type": "code",
   "execution_count": 2,
   "metadata": {},
   "outputs": [],
   "source": [
    "import pandas as pd\n",
    "import matplotlib.pyplot as plt\n",
    "import glob\n",
    "import numpy as np\n",
    "from ipywidgets import widgets\n",
    "from IPython.display import Markdown, display\n",
    "\n",
    "def printmd(string):\n",
    "    display(Markdown(string))\n"
   ]
  },
  {
   "cell_type": "code",
   "execution_count": 5,
   "metadata": {
    "collapsed": true
   },
   "outputs": [
    {
     "data": {
      "text/markdown": [
       "**Type the log2fold that you want to use?**"
      ],
      "text/plain": [
       "<IPython.core.display.Markdown object>"
      ]
     },
     "metadata": {},
     "output_type": "display_data"
    },
    {
     "data": {
      "application/vnd.jupyter.widget-view+json": {
       "model_id": "9acec315a084416683d54b392ccc10a6",
       "version_major": 2,
       "version_minor": 0
      },
      "text/plain": [
       "Text(value='-0.58')"
      ]
     },
     "metadata": {},
     "output_type": "display_data"
    }
   ],
   "source": [
    "# Display output text box widget (will populate when value submitted in input)\n",
    "printmd(\"**Type the log2fold that you want to use?**\")\n",
    "name=input()\n"
   ]
  },
  {
   "cell_type": "code",
   "execution_count": 6,
   "metadata": {
    "collapsed": true
   },
   "outputs": [
    {
     "data": {
      "text/markdown": [
       "**Cut-off:**"
      ],
      "text/plain": [
       "<IPython.core.display.Markdown object>"
      ]
     },
     "metadata": {},
     "output_type": "display_data"
    },
    {
     "name": "stdout",
     "output_type": "stream",
     "text": [
      "-0.58\n"
     ]
    },
    {
     "data": {
      "text/html": [
       "<div>\n",
       "<style scoped>\n",
       "    .dataframe tbody tr th:only-of-type {\n",
       "        vertical-align: middle;\n",
       "    }\n",
       "\n",
       "    .dataframe tbody tr th {\n",
       "        vertical-align: top;\n",
       "    }\n",
       "\n",
       "    .dataframe thead th {\n",
       "        text-align: right;\n",
       "    }\n",
       "</style>\n",
       "<table border=\"1\" class=\"dataframe\">\n",
       "  <thead>\n",
       "    <tr style=\"text-align: right;\">\n",
       "      <th></th>\n",
       "      <th>CL40_TEAD_lncRNA</th>\n",
       "      <th>COLO320_TEAD_lncRNA</th>\n",
       "      <th>GTG7_TEAD_lncRNA</th>\n",
       "      <th>HT55_TEAD_lncRNA</th>\n",
       "      <th>HUTU80_TEAD_lncRNA</th>\n",
       "      <th>LS180_TEAD_lncRNA</th>\n",
       "      <th>LS411_TEAD_lncRNA</th>\n",
       "      <th>MDST8_TEAD_lncRNA</th>\n",
       "      <th>SW1463_TEAD_lncRNA</th>\n",
       "      <th>label</th>\n",
       "      <th>Count Overlap</th>\n",
       "    </tr>\n",
       "  </thead>\n",
       "  <tbody>\n",
       "    <tr>\n",
       "      <th>ENSG00000279259.1_5</th>\n",
       "      <td>-1.831048</td>\n",
       "      <td>-1.139510</td>\n",
       "      <td>-1.319975</td>\n",
       "      <td>0.000000</td>\n",
       "      <td>0.000000</td>\n",
       "      <td>-2.313718</td>\n",
       "      <td>-1.273999</td>\n",
       "      <td>-1.183875</td>\n",
       "      <td>-1.732485</td>\n",
       "      <td>[CL40_TEAD_lncRNA, COLO320_TEAD_lncRNA, GTG7_T...</td>\n",
       "      <td>7</td>\n",
       "    </tr>\n",
       "    <tr>\n",
       "      <th>ENSG00000259943.1_5</th>\n",
       "      <td>-1.831048</td>\n",
       "      <td>-0.871624</td>\n",
       "      <td>1.616657</td>\n",
       "      <td>-3.427461</td>\n",
       "      <td>-3.332375</td>\n",
       "      <td>-0.721104</td>\n",
       "      <td>-0.452265</td>\n",
       "      <td>-0.901128</td>\n",
       "      <td>-2.362597</td>\n",
       "      <td>[CL40_TEAD_lncRNA, COLO320_TEAD_lncRNA, HT55_T...</td>\n",
       "      <td>7</td>\n",
       "    </tr>\n",
       "    <tr>\n",
       "      <th>ENSG00000260948.1_5</th>\n",
       "      <td>-3.597547</td>\n",
       "      <td>-0.812942</td>\n",
       "      <td>-1.309619</td>\n",
       "      <td>-3.422448</td>\n",
       "      <td>-1.599178</td>\n",
       "      <td>-0.988329</td>\n",
       "      <td>-0.069616</td>\n",
       "      <td>1.391097</td>\n",
       "      <td>0.875092</td>\n",
       "      <td>[CL40_TEAD_lncRNA, COLO320_TEAD_lncRNA, GTG7_T...</td>\n",
       "      <td>6</td>\n",
       "    </tr>\n",
       "    <tr>\n",
       "      <th>ENSG00000268858.2_5</th>\n",
       "      <td>0.000000</td>\n",
       "      <td>-0.793413</td>\n",
       "      <td>-0.622039</td>\n",
       "      <td>-0.620857</td>\n",
       "      <td>-0.920734</td>\n",
       "      <td>0.313778</td>\n",
       "      <td>-0.408806</td>\n",
       "      <td>-1.997200</td>\n",
       "      <td>-1.894933</td>\n",
       "      <td>[COLO320_TEAD_lncRNA, GTG7_TEAD_lncRNA, HT55_T...</td>\n",
       "      <td>6</td>\n",
       "    </tr>\n",
       "    <tr>\n",
       "      <th>ENSG00000278600.1_6</th>\n",
       "      <td>-2.000625</td>\n",
       "      <td>-0.848701</td>\n",
       "      <td>0.515827</td>\n",
       "      <td>-2.048868</td>\n",
       "      <td>2.172375</td>\n",
       "      <td>-1.137623</td>\n",
       "      <td>-1.232925</td>\n",
       "      <td>0.182320</td>\n",
       "      <td>-1.916644</td>\n",
       "      <td>[CL40_TEAD_lncRNA, COLO320_TEAD_lncRNA, HT55_T...</td>\n",
       "      <td>6</td>\n",
       "    </tr>\n",
       "    <tr>\n",
       "      <th>...</th>\n",
       "      <td>...</td>\n",
       "      <td>...</td>\n",
       "      <td>...</td>\n",
       "      <td>...</td>\n",
       "      <td>...</td>\n",
       "      <td>...</td>\n",
       "      <td>...</td>\n",
       "      <td>...</td>\n",
       "      <td>...</td>\n",
       "      <td>...</td>\n",
       "      <td>...</td>\n",
       "    </tr>\n",
       "    <tr>\n",
       "      <th>ENSG00000244578.1_4</th>\n",
       "      <td>0.000000</td>\n",
       "      <td>0.843452</td>\n",
       "      <td>0.000000</td>\n",
       "      <td>0.000000</td>\n",
       "      <td>0.000000</td>\n",
       "      <td>0.000000</td>\n",
       "      <td>0.000000</td>\n",
       "      <td>-0.912042</td>\n",
       "      <td>0.000000</td>\n",
       "      <td>[MDST8_TEAD_lncRNA]</td>\n",
       "      <td>1</td>\n",
       "    </tr>\n",
       "    <tr>\n",
       "      <th>ENSG00000244625.6_6</th>\n",
       "      <td>0.078802</td>\n",
       "      <td>-0.207451</td>\n",
       "      <td>0.971543</td>\n",
       "      <td>-0.874822</td>\n",
       "      <td>0.000000</td>\n",
       "      <td>-0.516246</td>\n",
       "      <td>-0.531857</td>\n",
       "      <td>0.474906</td>\n",
       "      <td>-0.484782</td>\n",
       "      <td>[HT55_TEAD_lncRNA]</td>\n",
       "      <td>1</td>\n",
       "    </tr>\n",
       "    <tr>\n",
       "      <th>ENSG00000244945.1_5</th>\n",
       "      <td>-0.595587</td>\n",
       "      <td>1.768785</td>\n",
       "      <td>-0.342705</td>\n",
       "      <td>1.063720</td>\n",
       "      <td>0.000000</td>\n",
       "      <td>-0.174290</td>\n",
       "      <td>0.636587</td>\n",
       "      <td>1.140267</td>\n",
       "      <td>3.510582</td>\n",
       "      <td>[CL40_TEAD_lncRNA]</td>\n",
       "      <td>1</td>\n",
       "    </tr>\n",
       "    <tr>\n",
       "      <th>ENSG00000244968.6_5</th>\n",
       "      <td>0.000000</td>\n",
       "      <td>0.000000</td>\n",
       "      <td>0.000000</td>\n",
       "      <td>0.000000</td>\n",
       "      <td>0.000000</td>\n",
       "      <td>0.000000</td>\n",
       "      <td>0.000000</td>\n",
       "      <td>-0.795958</td>\n",
       "      <td>0.000000</td>\n",
       "      <td>[MDST8_TEAD_lncRNA]</td>\n",
       "      <td>1</td>\n",
       "    </tr>\n",
       "    <tr>\n",
       "      <th>ENSG00000245017.2_5</th>\n",
       "      <td>0.000000</td>\n",
       "      <td>0.001858</td>\n",
       "      <td>0.178452</td>\n",
       "      <td>0.000000</td>\n",
       "      <td>0.000000</td>\n",
       "      <td>0.000000</td>\n",
       "      <td>0.026381</td>\n",
       "      <td>-0.918877</td>\n",
       "      <td>0.000000</td>\n",
       "      <td>[MDST8_TEAD_lncRNA]</td>\n",
       "      <td>1</td>\n",
       "    </tr>\n",
       "  </tbody>\n",
       "</table>\n",
       "<p>3662 rows × 11 columns</p>\n",
       "</div>"
      ],
      "text/plain": [
       "                     CL40_TEAD_lncRNA  COLO320_TEAD_lncRNA  GTG7_TEAD_lncRNA  \\\n",
       "ENSG00000279259.1_5         -1.831048            -1.139510         -1.319975   \n",
       "ENSG00000259943.1_5         -1.831048            -0.871624          1.616657   \n",
       "ENSG00000260948.1_5         -3.597547            -0.812942         -1.309619   \n",
       "ENSG00000268858.2_5          0.000000            -0.793413         -0.622039   \n",
       "ENSG00000278600.1_6         -2.000625            -0.848701          0.515827   \n",
       "...                               ...                  ...               ...   \n",
       "ENSG00000244578.1_4          0.000000             0.843452          0.000000   \n",
       "ENSG00000244625.6_6          0.078802            -0.207451          0.971543   \n",
       "ENSG00000244945.1_5         -0.595587             1.768785         -0.342705   \n",
       "ENSG00000244968.6_5          0.000000             0.000000          0.000000   \n",
       "ENSG00000245017.2_5          0.000000             0.001858          0.178452   \n",
       "\n",
       "                     HT55_TEAD_lncRNA  HUTU80_TEAD_lncRNA  LS180_TEAD_lncRNA  \\\n",
       "ENSG00000279259.1_5          0.000000            0.000000          -2.313718   \n",
       "ENSG00000259943.1_5         -3.427461           -3.332375          -0.721104   \n",
       "ENSG00000260948.1_5         -3.422448           -1.599178          -0.988329   \n",
       "ENSG00000268858.2_5         -0.620857           -0.920734           0.313778   \n",
       "ENSG00000278600.1_6         -2.048868            2.172375          -1.137623   \n",
       "...                               ...                 ...                ...   \n",
       "ENSG00000244578.1_4          0.000000            0.000000           0.000000   \n",
       "ENSG00000244625.6_6         -0.874822            0.000000          -0.516246   \n",
       "ENSG00000244945.1_5          1.063720            0.000000          -0.174290   \n",
       "ENSG00000244968.6_5          0.000000            0.000000           0.000000   \n",
       "ENSG00000245017.2_5          0.000000            0.000000           0.000000   \n",
       "\n",
       "                     LS411_TEAD_lncRNA  MDST8_TEAD_lncRNA  SW1463_TEAD_lncRNA  \\\n",
       "ENSG00000279259.1_5          -1.273999          -1.183875           -1.732485   \n",
       "ENSG00000259943.1_5          -0.452265          -0.901128           -2.362597   \n",
       "ENSG00000260948.1_5          -0.069616           1.391097            0.875092   \n",
       "ENSG00000268858.2_5          -0.408806          -1.997200           -1.894933   \n",
       "ENSG00000278600.1_6          -1.232925           0.182320           -1.916644   \n",
       "...                                ...                ...                 ...   \n",
       "ENSG00000244578.1_4           0.000000          -0.912042            0.000000   \n",
       "ENSG00000244625.6_6          -0.531857           0.474906           -0.484782   \n",
       "ENSG00000244945.1_5           0.636587           1.140267            3.510582   \n",
       "ENSG00000244968.6_5           0.000000          -0.795958            0.000000   \n",
       "ENSG00000245017.2_5           0.026381          -0.918877            0.000000   \n",
       "\n",
       "                                                                 label  \\\n",
       "ENSG00000279259.1_5  [CL40_TEAD_lncRNA, COLO320_TEAD_lncRNA, GTG7_T...   \n",
       "ENSG00000259943.1_5  [CL40_TEAD_lncRNA, COLO320_TEAD_lncRNA, HT55_T...   \n",
       "ENSG00000260948.1_5  [CL40_TEAD_lncRNA, COLO320_TEAD_lncRNA, GTG7_T...   \n",
       "ENSG00000268858.2_5  [COLO320_TEAD_lncRNA, GTG7_TEAD_lncRNA, HT55_T...   \n",
       "ENSG00000278600.1_6  [CL40_TEAD_lncRNA, COLO320_TEAD_lncRNA, HT55_T...   \n",
       "...                                                                ...   \n",
       "ENSG00000244578.1_4                                [MDST8_TEAD_lncRNA]   \n",
       "ENSG00000244625.6_6                                 [HT55_TEAD_lncRNA]   \n",
       "ENSG00000244945.1_5                                 [CL40_TEAD_lncRNA]   \n",
       "ENSG00000244968.6_5                                [MDST8_TEAD_lncRNA]   \n",
       "ENSG00000245017.2_5                                [MDST8_TEAD_lncRNA]   \n",
       "\n",
       "                     Count Overlap  \n",
       "ENSG00000279259.1_5              7  \n",
       "ENSG00000259943.1_5              7  \n",
       "ENSG00000260948.1_5              6  \n",
       "ENSG00000268858.2_5              6  \n",
       "ENSG00000278600.1_6              6  \n",
       "...                            ...  \n",
       "ENSG00000244578.1_4              1  \n",
       "ENSG00000244625.6_6              1  \n",
       "ENSG00000244945.1_5              1  \n",
       "ENSG00000244968.6_5              1  \n",
       "ENSG00000245017.2_5              1  \n",
       "\n",
       "[3662 rows x 11 columns]"
      ]
     },
     "execution_count": 6,
     "metadata": {},
     "output_type": "execute_result"
    }
   ],
   "source": [
    "new_variable = float(name)\n",
    "printmd(\"**Cut-off:**\")\n",
    "print(new_variable)\n",
    "\n",
    "#read files for foldchange criteria\n",
    "all_files = glob.glob(\"data/*lncRNA_change.txt\")\n",
    "list_of_dfs = [pd.read_csv(all_files, sep=\"\\t\").drop(['Gene', 'baseMean','lfcSE','stat','pvalue', 'padj'], 1).set_index('Transcript') for all_files in all_files]\n",
    "\n",
    "#loop for creating a list of datadrames - 1 per file\n",
    "for dataframe, all_file in zip(list_of_dfs, all_files):\n",
    "    all_file2 = all_file.split('_')\n",
    "    dataframe.rename(columns={'log2FoldChange':all_file2[0]}, inplace=True)\n",
    "\n",
    "#Combine all the dfs\n",
    "combined_df = pd.concat(list_of_dfs, axis=1, sort=True)\n",
    "#combined_df_pvalue = pd.concat(list_of_dfs2, axis=1, sort=True)\n",
    "\n",
    "#Create a coloumn named label containing all the cell line intersections based on gene name. Replace \"-1\" by the wanted foldchange\n",
    "combined_df['label'] = (combined_df < new_variable).apply(lambda y: combined_df.columns[y.tolist()].tolist(), axis=1)\n",
    "\n",
    "#Count the number of intersection using \",\" as delimiter\n",
    "combined_df['Count Overlap'] = combined_df['label'].astype(str).str.count(\"\\,\") +1 \n",
    "\n",
    "#Sort based on # of intersections\n",
    "combined_df_sorted = combined_df.sort_values(by=['Count Overlap'], ascending=False)\n",
    "\n",
    "#remove empty intersection\n",
    "combined_df_sorted_clean = combined_df_sorted[~combined_df_sorted['label'].astype(str).str.contains('\\[]')].fillna(0)\n",
    "combined_df_sorted_clean"
   ]
  },
  {
   "cell_type": "markdown",
   "metadata": {},
   "source": [
    "## Save the matrix as a excel file:"
   ]
  },
  {
   "cell_type": "code",
   "execution_count": 18,
   "metadata": {},
   "outputs": [],
   "source": [
    "def csv_download_link(df, csv_file_name, delete_prompt=True):\n",
    "    \"\"\"Display a download link to load a data frame as csv from within a Jupyter notebook\"\"\"\n",
    "    df.to_csv(csv_file_name, sep='\\t')\n",
    "    from IPython.display import FileLink\n",
    "    display(FileLink(csv_file_name))\n",
    "csv_download_link(combined_df_sorted_clean, 'matrix_TEAD_lncRNA.csv')   "
   ]
  },
  {
   "cell_type": "markdown",
   "metadata": {},
   "source": [
    "## Expression of a specific lncRNA"
   ]
  },
  {
   "cell_type": "code",
   "execution_count": 1,
   "metadata": {
    "collapsed": true
   },
   "outputs": [
    {
     "ename": "NameError",
     "evalue": "name 'combined_df_sorted_clean' is not defined",
     "output_type": "error",
     "traceback": [
      "\u001b[1;31m---------------------------------------------------------------------------\u001b[0m",
      "\u001b[1;31mNameError\u001b[0m                                 Traceback (most recent call last)",
      "\u001b[1;32m<ipython-input-1-133c61d7d0bf>\u001b[0m in \u001b[0;36m<module>\u001b[1;34m\u001b[0m\n\u001b[1;32m----> 1\u001b[1;33m \u001b[0mcombined_df_sorted_clean\u001b[0m\u001b[1;33m.\u001b[0m\u001b[0mloc\u001b[0m\u001b[1;33m[\u001b[0m\u001b[1;34m\"ENSG00000163597.14_2\"\u001b[0m\u001b[1;33m]\u001b[0m\u001b[1;33m\u001b[0m\u001b[1;33m\u001b[0m\u001b[0m\n\u001b[0m",
      "\u001b[1;31mNameError\u001b[0m: name 'combined_df_sorted_clean' is not defined"
     ]
    }
   ],
   "source": [
    "combined_df_sorted_clean.loc[\"ENSG00000163597.14_2\"]"
   ]
  }
 ],
 "metadata": {
  "kernelspec": {
   "display_name": "Python 3",
   "language": "python",
   "name": "python3"
  },
  "language_info": {
   "codemirror_mode": {
    "name": "ipython",
    "version": 3
   },
   "file_extension": ".py",
   "mimetype": "text/x-python",
   "name": "python",
   "nbconvert_exporter": "python",
   "pygments_lexer": "ipython3",
   "version": "3.7.6"
  }
 },
 "nbformat": 4,
 "nbformat_minor": 2
}
