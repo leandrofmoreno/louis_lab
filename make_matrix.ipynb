{
 "cells": [
  {
   "cell_type": "markdown",
   "metadata": {},
   "source": [
    "# Generate the matrix based on log2Foldchange"
   ]
  },
  {
   "cell_type": "code",
   "execution_count": 115,
   "metadata": {},
   "outputs": [
    {
     "data": {
      "text/markdown": [
       "**Type the log2fold change that you want to use?**"
      ],
      "text/plain": [
       "<IPython.core.display.Markdown object>"
      ]
     },
     "metadata": {},
     "output_type": "display_data"
    },
    {
     "name": "stdout",
     "output_type": "stream",
     "text": [
      "-0.58\n"
     ]
    },
    {
     "data": {
      "text/markdown": [
       "**Select the transcript type**"
      ],
      "text/plain": [
       "<IPython.core.display.Markdown object>"
      ]
     },
     "metadata": {},
     "output_type": "display_data"
    },
    {
     "data": {
      "application/vnd.jupyter.widget-view+json": {
       "model_id": "deb82fd768344bbabed4f14f3af2673a",
       "version_major": 2,
       "version_minor": 0
      },
      "text/plain": [
       "Dropdown(options=('mRNA', 'lncRNA', 'lncRNA + mRNA'), value='mRNA')"
      ]
     },
     "metadata": {},
     "output_type": "display_data"
    }
   ],
   "source": [
    "import pandas as pd\n",
    "import matplotlib.pyplot as plt\n",
    "import glob\n",
    "import numpy as np\n",
    "from ipywidgets import widgets\n",
    "from IPython.display import Markdown, display\n",
    "\n",
    "def printmd(string):\n",
    "    display(Markdown(string))\n",
    "    \n",
    "# Display output text box widget (will populate when value submitted in input)\n",
    "printmd(\"**Type the log2fold change and press Enter**\")\n",
    "name=input() \n",
    "\n",
    "transcript = widgets.Dropdown(options = ['mRNA', 'lncRNA', 'lncRNA + mRNA'])\n",
    "printmd(\"**Select the transcript type**\")\n",
    "display(transcript)\n"
   ]
  },
  {
   "cell_type": "code",
   "execution_count": 135,
   "metadata": {},
   "outputs": [
    {
     "data": {
      "text/markdown": [
       "**Cut-off:**"
      ],
      "text/plain": [
       "<IPython.core.display.Markdown object>"
      ]
     },
     "metadata": {},
     "output_type": "display_data"
    },
    {
     "name": "stdout",
     "output_type": "stream",
     "text": [
      "-0.58\n"
     ]
    },
    {
     "data": {
      "text/html": [
       "<div>\n",
       "<style scoped>\n",
       "    .dataframe tbody tr th:only-of-type {\n",
       "        vertical-align: middle;\n",
       "    }\n",
       "\n",
       "    .dataframe tbody tr th {\n",
       "        vertical-align: top;\n",
       "    }\n",
       "\n",
       "    .dataframe thead th {\n",
       "        text-align: right;\n",
       "    }\n",
       "</style>\n",
       "<table border=\"1\" class=\"dataframe\">\n",
       "  <thead>\n",
       "    <tr style=\"text-align: right;\">\n",
       "      <th></th>\n",
       "      <th>CL40</th>\n",
       "      <th>COLO320</th>\n",
       "      <th>GTG7</th>\n",
       "      <th>HT55</th>\n",
       "      <th>HUTU80</th>\n",
       "      <th>LOVO</th>\n",
       "      <th>LS180</th>\n",
       "      <th>LS411</th>\n",
       "      <th>MDST8</th>\n",
       "      <th>SW1463</th>\n",
       "      <th>label</th>\n",
       "      <th>Count Overlap</th>\n",
       "    </tr>\n",
       "  </thead>\n",
       "  <tbody>\n",
       "    <tr>\n",
       "      <th>NM_002165</th>\n",
       "      <td>-1.181748</td>\n",
       "      <td>0.344808</td>\n",
       "      <td>-0.730505</td>\n",
       "      <td>-1.497162</td>\n",
       "      <td>-1.164779</td>\n",
       "      <td>-1.004176</td>\n",
       "      <td>-2.316883</td>\n",
       "      <td>-0.714432</td>\n",
       "      <td>-1.417058</td>\n",
       "      <td>0.575379</td>\n",
       "      <td>[CL40, GTG7, HT55, HUTU80, LOVO, LS180, LS411,...</td>\n",
       "      <td>8</td>\n",
       "    </tr>\n",
       "    <tr>\n",
       "      <th>NM_002513</th>\n",
       "      <td>1.020166</td>\n",
       "      <td>-1.138803</td>\n",
       "      <td>-1.072349</td>\n",
       "      <td>-2.902673</td>\n",
       "      <td>-1.190006</td>\n",
       "      <td>-1.635652</td>\n",
       "      <td>-0.406431</td>\n",
       "      <td>-1.791223</td>\n",
       "      <td>-1.933246</td>\n",
       "      <td>-2.029388</td>\n",
       "      <td>[COLO320, GTG7, HT55, HUTU80, LOVO, LS411, MDS...</td>\n",
       "      <td>8</td>\n",
       "    </tr>\n",
       "    <tr>\n",
       "      <th>ENSG00000279259.1_5</th>\n",
       "      <td>-1.831048</td>\n",
       "      <td>-1.139510</td>\n",
       "      <td>-1.319975</td>\n",
       "      <td>0.000000</td>\n",
       "      <td>0.000000</td>\n",
       "      <td>-0.752096</td>\n",
       "      <td>-2.313718</td>\n",
       "      <td>-1.273999</td>\n",
       "      <td>-1.183875</td>\n",
       "      <td>-1.732485</td>\n",
       "      <td>[CL40, COLO320, GTG7, LOVO, LS180, LS411, MDST...</td>\n",
       "      <td>8</td>\n",
       "    </tr>\n",
       "    <tr>\n",
       "      <th>NM_021103</th>\n",
       "      <td>-3.376571</td>\n",
       "      <td>-2.940238</td>\n",
       "      <td>-1.757715</td>\n",
       "      <td>-1.995440</td>\n",
       "      <td>0.337592</td>\n",
       "      <td>-1.113494</td>\n",
       "      <td>-1.008932</td>\n",
       "      <td>0.010219</td>\n",
       "      <td>-0.867050</td>\n",
       "      <td>-1.167274</td>\n",
       "      <td>[CL40, COLO320, GTG7, HT55, LOVO, LS180, MDST8...</td>\n",
       "      <td>8</td>\n",
       "    </tr>\n",
       "    <tr>\n",
       "      <th>NM_001039842</th>\n",
       "      <td>3.299277</td>\n",
       "      <td>-0.724057</td>\n",
       "      <td>-0.758224</td>\n",
       "      <td>-0.250184</td>\n",
       "      <td>-1.358259</td>\n",
       "      <td>-1.612723</td>\n",
       "      <td>-0.665963</td>\n",
       "      <td>-1.062795</td>\n",
       "      <td>-2.541358</td>\n",
       "      <td>-1.150794</td>\n",
       "      <td>[COLO320, GTG7, HUTU80, LOVO, LS180, LS411, MD...</td>\n",
       "      <td>8</td>\n",
       "    </tr>\n",
       "    <tr>\n",
       "      <th>...</th>\n",
       "      <td>...</td>\n",
       "      <td>...</td>\n",
       "      <td>...</td>\n",
       "      <td>...</td>\n",
       "      <td>...</td>\n",
       "      <td>...</td>\n",
       "      <td>...</td>\n",
       "      <td>...</td>\n",
       "      <td>...</td>\n",
       "      <td>...</td>\n",
       "      <td>...</td>\n",
       "      <td>...</td>\n",
       "    </tr>\n",
       "    <tr>\n",
       "      <th>ENSG00000272917.1_6</th>\n",
       "      <td>0.000000</td>\n",
       "      <td>0.265758</td>\n",
       "      <td>0.000000</td>\n",
       "      <td>0.000000</td>\n",
       "      <td>0.049285</td>\n",
       "      <td>-0.323401</td>\n",
       "      <td>0.657373</td>\n",
       "      <td>0.000000</td>\n",
       "      <td>-0.820840</td>\n",
       "      <td>0.000000</td>\n",
       "      <td>[MDST8]</td>\n",
       "      <td>1</td>\n",
       "    </tr>\n",
       "    <tr>\n",
       "      <th>ENSG00000272884.1_6</th>\n",
       "      <td>-0.064524</td>\n",
       "      <td>1.096731</td>\n",
       "      <td>-0.075413</td>\n",
       "      <td>1.210698</td>\n",
       "      <td>-0.147358</td>\n",
       "      <td>0.458400</td>\n",
       "      <td>0.452481</td>\n",
       "      <td>-0.589699</td>\n",
       "      <td>0.433788</td>\n",
       "      <td>2.206086</td>\n",
       "      <td>[LS411]</td>\n",
       "      <td>1</td>\n",
       "    </tr>\n",
       "    <tr>\n",
       "      <th>ENSG00000273018.6_7</th>\n",
       "      <td>0.000000</td>\n",
       "      <td>-1.164833</td>\n",
       "      <td>0.000000</td>\n",
       "      <td>0.000000</td>\n",
       "      <td>0.000000</td>\n",
       "      <td>0.000000</td>\n",
       "      <td>0.000000</td>\n",
       "      <td>0.000000</td>\n",
       "      <td>0.000000</td>\n",
       "      <td>0.000000</td>\n",
       "      <td>[COLO320]</td>\n",
       "      <td>1</td>\n",
       "    </tr>\n",
       "    <tr>\n",
       "      <th>ENSG00000272977.1_6</th>\n",
       "      <td>-0.061181</td>\n",
       "      <td>-0.312941</td>\n",
       "      <td>-0.350081</td>\n",
       "      <td>0.000000</td>\n",
       "      <td>-1.789893</td>\n",
       "      <td>0.374670</td>\n",
       "      <td>-0.068745</td>\n",
       "      <td>-0.442929</td>\n",
       "      <td>0.905885</td>\n",
       "      <td>0.000000</td>\n",
       "      <td>[HUTU80]</td>\n",
       "      <td>1</td>\n",
       "    </tr>\n",
       "    <tr>\n",
       "      <th>ENSG00000272975.1_7</th>\n",
       "      <td>0.000000</td>\n",
       "      <td>0.000000</td>\n",
       "      <td>0.000000</td>\n",
       "      <td>0.000000</td>\n",
       "      <td>0.000000</td>\n",
       "      <td>0.000000</td>\n",
       "      <td>0.000000</td>\n",
       "      <td>-1.645104</td>\n",
       "      <td>2.565617</td>\n",
       "      <td>0.000000</td>\n",
       "      <td>[LS411]</td>\n",
       "      <td>1</td>\n",
       "    </tr>\n",
       "  </tbody>\n",
       "</table>\n",
       "<p>10911 rows × 12 columns</p>\n",
       "</div>"
      ],
      "text/plain": [
       "                         CL40   COLO320      GTG7      HT55    HUTU80  \\\n",
       "NM_002165           -1.181748  0.344808 -0.730505 -1.497162 -1.164779   \n",
       "NM_002513            1.020166 -1.138803 -1.072349 -2.902673 -1.190006   \n",
       "ENSG00000279259.1_5 -1.831048 -1.139510 -1.319975  0.000000  0.000000   \n",
       "NM_021103           -3.376571 -2.940238 -1.757715 -1.995440  0.337592   \n",
       "NM_001039842         3.299277 -0.724057 -0.758224 -0.250184 -1.358259   \n",
       "...                       ...       ...       ...       ...       ...   \n",
       "ENSG00000272917.1_6  0.000000  0.265758  0.000000  0.000000  0.049285   \n",
       "ENSG00000272884.1_6 -0.064524  1.096731 -0.075413  1.210698 -0.147358   \n",
       "ENSG00000273018.6_7  0.000000 -1.164833  0.000000  0.000000  0.000000   \n",
       "ENSG00000272977.1_6 -0.061181 -0.312941 -0.350081  0.000000 -1.789893   \n",
       "ENSG00000272975.1_7  0.000000  0.000000  0.000000  0.000000  0.000000   \n",
       "\n",
       "                         LOVO     LS180     LS411     MDST8    SW1463  \\\n",
       "NM_002165           -1.004176 -2.316883 -0.714432 -1.417058  0.575379   \n",
       "NM_002513           -1.635652 -0.406431 -1.791223 -1.933246 -2.029388   \n",
       "ENSG00000279259.1_5 -0.752096 -2.313718 -1.273999 -1.183875 -1.732485   \n",
       "NM_021103           -1.113494 -1.008932  0.010219 -0.867050 -1.167274   \n",
       "NM_001039842        -1.612723 -0.665963 -1.062795 -2.541358 -1.150794   \n",
       "...                       ...       ...       ...       ...       ...   \n",
       "ENSG00000272917.1_6 -0.323401  0.657373  0.000000 -0.820840  0.000000   \n",
       "ENSG00000272884.1_6  0.458400  0.452481 -0.589699  0.433788  2.206086   \n",
       "ENSG00000273018.6_7  0.000000  0.000000  0.000000  0.000000  0.000000   \n",
       "ENSG00000272977.1_6  0.374670 -0.068745 -0.442929  0.905885  0.000000   \n",
       "ENSG00000272975.1_7  0.000000  0.000000 -1.645104  2.565617  0.000000   \n",
       "\n",
       "                                                                 label  \\\n",
       "NM_002165            [CL40, GTG7, HT55, HUTU80, LOVO, LS180, LS411,...   \n",
       "NM_002513            [COLO320, GTG7, HT55, HUTU80, LOVO, LS411, MDS...   \n",
       "ENSG00000279259.1_5  [CL40, COLO320, GTG7, LOVO, LS180, LS411, MDST...   \n",
       "NM_021103            [CL40, COLO320, GTG7, HT55, LOVO, LS180, MDST8...   \n",
       "NM_001039842         [COLO320, GTG7, HUTU80, LOVO, LS180, LS411, MD...   \n",
       "...                                                                ...   \n",
       "ENSG00000272917.1_6                                            [MDST8]   \n",
       "ENSG00000272884.1_6                                            [LS411]   \n",
       "ENSG00000273018.6_7                                          [COLO320]   \n",
       "ENSG00000272977.1_6                                           [HUTU80]   \n",
       "ENSG00000272975.1_7                                            [LS411]   \n",
       "\n",
       "                     Count Overlap  \n",
       "NM_002165                        8  \n",
       "NM_002513                        8  \n",
       "ENSG00000279259.1_5              8  \n",
       "NM_021103                        8  \n",
       "NM_001039842                     8  \n",
       "...                            ...  \n",
       "ENSG00000272917.1_6              1  \n",
       "ENSG00000272884.1_6              1  \n",
       "ENSG00000273018.6_7              1  \n",
       "ENSG00000272977.1_6              1  \n",
       "ENSG00000272975.1_7              1  \n",
       "\n",
       "[10911 rows x 12 columns]"
      ]
     },
     "execution_count": 135,
     "metadata": {},
     "output_type": "execute_result"
    }
   ],
   "source": [
    "new_variable = float(name)\n",
    "printmd(\"**Cut-off:**\")\n",
    "print(new_variable)\n",
    "\n",
    "#read files for foldchange criteria\n",
    "if transcript.value == 'mRNA':\n",
    "    all_files = glob.glob('data/*mRNA_change.txt')\n",
    "elif transcript.value == 'lncRNA':\n",
    "    all_files = glob.glob('data/*lncRNA_change.txt')\n",
    "elif transcript.value == 'lncRNA + mRNA':\n",
    "    all_files = glob.glob('data/*_change.txt') \n",
    "list_of_dfs = [pd.read_csv(all_files, sep=\"\\t\").drop(['Gene', 'baseMean','lfcSE','stat','pvalue', 'padj'], 1).set_index('Transcript') for all_files in all_files]\n",
    "\n",
    "#loop for creating a list of datadrames - 1 per file\n",
    "for dataframe, all_file in zip(list_of_dfs, all_files):\n",
    "    all_file2 = all_file[5:].split('_')\n",
    "    dataframe.rename(columns={'log2FoldChange':all_file2[0]}, inplace=True)\n",
    "\n",
    "#Combine all the dfs\n",
    "combined_df = pd.concat(list_of_dfs, axis=1, sort=True)\n",
    "#combined_df_pvalue = pd.concat(list_of_dfs2, axis=1, sort=True)\n",
    "\n",
    "#Create a coloumn named label containing all the cell line intersections based on gene name. Replace \"-1\" by the wanted foldchange\n",
    "combined_df['label'] = (combined_df < new_variable).apply(lambda y: combined_df.columns[y.tolist()].tolist(), axis=1)\n",
    "\n",
    "#Count the number of intersection using \",\" as delimiter\n",
    "combined_df['Count Overlap'] = combined_df['label'].astype(str).str.count(\"\\,\") +1 \n",
    "\n",
    "#Sort based on # of intersections\n",
    "combined_df_sorted = combined_df.sort_values(by=['Count Overlap'], ascending=False)\n",
    "\n",
    "#remove empty intersection\n",
    "combined_df_sorted_clean = combined_df_sorted[~combined_df_sorted['label'].astype(str).str.contains('\\[]')].fillna(0)\n",
    "\n",
    "if transcript.value == 'lncRNA + mRNA':\n",
    "    combined_df_sorted_clean = combined_df_sorted_clean.groupby(combined_df_sorted_clean.columns, axis=1, sort=False).sum()\n",
    "combined_df_sorted_clean\n",
    "    "
   ]
  },
  {
   "cell_type": "markdown",
   "metadata": {},
   "source": [
    "## Save the matrix as a excel file:"
   ]
  },
  {
   "cell_type": "code",
   "execution_count": 18,
   "metadata": {},
   "outputs": [],
   "source": [
    "def csv_download_link(df, csv_file_name, delete_prompt=True):\n",
    "    \"\"\"Display a download link to load a data frame as csv from within a Jupyter notebook\"\"\"\n",
    "    df.to_csv(csv_file_name, sep='\\t')\n",
    "    from IPython.display import FileLink\n",
    "    display(FileLink(csv_file_name))\n",
    "csv_download_link(combined_df_sorted_clean, 'matrix_TEAD_lncRNA.csv')   "
   ]
  },
  {
   "cell_type": "markdown",
   "metadata": {},
   "source": [
    "## Expression of a specific lncRNA"
   ]
  },
  {
   "cell_type": "code",
   "execution_count": 1,
   "metadata": {
    "collapsed": true
   },
   "outputs": [
    {
     "ename": "NameError",
     "evalue": "name 'combined_df_sorted_clean' is not defined",
     "output_type": "error",
     "traceback": [
      "\u001b[1;31m---------------------------------------------------------------------------\u001b[0m",
      "\u001b[1;31mNameError\u001b[0m                                 Traceback (most recent call last)",
      "\u001b[1;32m<ipython-input-1-133c61d7d0bf>\u001b[0m in \u001b[0;36m<module>\u001b[1;34m\u001b[0m\n\u001b[1;32m----> 1\u001b[1;33m \u001b[0mcombined_df_sorted_clean\u001b[0m\u001b[1;33m.\u001b[0m\u001b[0mloc\u001b[0m\u001b[1;33m[\u001b[0m\u001b[1;34m\"ENSG00000163597.14_2\"\u001b[0m\u001b[1;33m]\u001b[0m\u001b[1;33m\u001b[0m\u001b[1;33m\u001b[0m\u001b[0m\n\u001b[0m",
      "\u001b[1;31mNameError\u001b[0m: name 'combined_df_sorted_clean' is not defined"
     ]
    }
   ],
   "source": [
    "combined_df_sorted_clean.loc[\"ENSG00000163597.14_2\"]"
   ]
  }
 ],
 "metadata": {
  "kernelspec": {
   "display_name": "Python 3",
   "language": "python",
   "name": "python3"
  },
  "language_info": {
   "codemirror_mode": {
    "name": "ipython",
    "version": 3
   },
   "file_extension": ".py",
   "mimetype": "text/x-python",
   "name": "python",
   "nbconvert_exporter": "python",
   "pygments_lexer": "ipython3",
   "version": "3.7.6"
  }
 },
 "nbformat": 4,
 "nbformat_minor": 2
}
